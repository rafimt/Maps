{
 "cells": [
  {
   "cell_type": "code",
   "execution_count": 36,
   "id": "2504ef02-7c4c-4e65-b0e3-ca5b38ef6a41",
   "metadata": {},
   "outputs": [
    {
     "data": {
      "text/html": [
       "\n",
       "            <style>\n",
       "                .geemap-dark {\n",
       "                    --jp-widgets-color: white;\n",
       "                    --jp-widgets-label-color: white;\n",
       "                    --jp-ui-font-color1: white;\n",
       "                    --jp-layout-color2: #454545;\n",
       "                    background-color: #383838;\n",
       "                }\n",
       "\n",
       "                .geemap-dark .jupyter-button {\n",
       "                    --jp-layout-color3: #383838;\n",
       "                }\n",
       "\n",
       "                .geemap-colab {\n",
       "                    background-color: var(--colab-primary-surface-color, white);\n",
       "                }\n",
       "\n",
       "                .geemap-colab .jupyter-button {\n",
       "                    --jp-layout-color3: var(--colab-primary-surface-color, white);\n",
       "                }\n",
       "            </style>\n",
       "            "
      ],
      "text/plain": [
       "<IPython.core.display.HTML object>"
      ]
     },
     "metadata": {},
     "output_type": "display_data"
    }
   ],
   "source": [
    "import ee\n",
    "import datetime\n",
    "import geemap\n",
    "import os"
   ]
  },
  {
   "cell_type": "code",
   "execution_count": 2,
   "id": "734032a1-e785-49ac-a019-23d270ceaff3",
   "metadata": {},
   "outputs": [
    {
     "data": {
      "text/html": [
       "<p>To authorize access needed by Earth Engine, open the following\n",
       "        URL in a web browser and follow the instructions:</p>\n",
       "        <p><a href=https://code.earthengine.google.com/client-auth?scopes=https%3A//www.googleapis.com/auth/earthengine%20https%3A//www.googleapis.com/auth/cloud-platform%20https%3A//www.googleapis.com/auth/devstorage.full_control&request_id=EmL_sRyJfFN_S6lAL5QK32l5ZhNbiipwLx6n2bLVi_0&tc=0-0b1jjBKyaBiTfwxj0kkdOhyEqnhdiM0nI4gh4itm8&cc=2Nr4PDZIWGGfe2bOQb6NrkWhfJDvkRE1pNcE2uLs33k>https://code.earthengine.google.com/client-auth?scopes=https%3A//www.googleapis.com/auth/earthengine%20https%3A//www.googleapis.com/auth/cloud-platform%20https%3A//www.googleapis.com/auth/devstorage.full_control&request_id=EmL_sRyJfFN_S6lAL5QK32l5ZhNbiipwLx6n2bLVi_0&tc=0-0b1jjBKyaBiTfwxj0kkdOhyEqnhdiM0nI4gh4itm8&cc=2Nr4PDZIWGGfe2bOQb6NrkWhfJDvkRE1pNcE2uLs33k</a></p>\n",
       "        <p>The authorization workflow will generate a code, which you should paste in the box below.</p>\n",
       "        "
      ],
      "text/plain": [
       "<IPython.core.display.HTML object>"
      ]
     },
     "metadata": {},
     "output_type": "display_data"
    },
    {
     "name": "stdin",
     "output_type": "stream",
     "text": [
      "Enter verification code:  4/1AQlEd8xFPmtkCjcJyVFEXGo-Mkbj-iHPKCk802Aotxn33teQYeQDNcOm2Ww\n"
     ]
    },
    {
     "name": "stdout",
     "output_type": "stream",
     "text": [
      "\n",
      "Successfully saved authorization token.\n"
     ]
    }
   ],
   "source": [
    "# ee.Authenticate()"
   ]
  },
  {
   "cell_type": "code",
   "execution_count": 4,
   "id": "71e1b44e-f361-41e1-ab33-f6723df786c2",
   "metadata": {},
   "outputs": [
    {
     "ename": "SyntaxError",
     "evalue": "invalid syntax (1288648952.py, line 1)",
     "output_type": "error",
     "traceback": [
      "\u001b[1;36m  Cell \u001b[1;32mIn[4], line 1\u001b[1;36m\u001b[0m\n\u001b[1;33m    var table = ee.FeatureCollection(\"FAO/GAUL/2015/level1\")\u001b[0m\n\u001b[1;37m        ^\u001b[0m\n\u001b[1;31mSyntaxError\u001b[0m\u001b[1;31m:\u001b[0m invalid syntax\n"
     ]
    }
   ],
   "source": []
  },
  {
   "cell_type": "code",
   "execution_count": 63,
   "id": "038c8790-f51c-4932-aa0c-96f31d019137",
   "metadata": {},
   "outputs": [
    {
     "data": {
      "text/html": [
       "\n",
       "            <style>\n",
       "                .geemap-dark {\n",
       "                    --jp-widgets-color: white;\n",
       "                    --jp-widgets-label-color: white;\n",
       "                    --jp-ui-font-color1: white;\n",
       "                    --jp-layout-color2: #454545;\n",
       "                    background-color: #383838;\n",
       "                }\n",
       "\n",
       "                .geemap-dark .jupyter-button {\n",
       "                    --jp-layout-color3: #383838;\n",
       "                }\n",
       "\n",
       "                .geemap-colab {\n",
       "                    background-color: var(--colab-primary-surface-color, white);\n",
       "                }\n",
       "\n",
       "                .geemap-colab .jupyter-button {\n",
       "                    --jp-layout-color3: var(--colab-primary-surface-color, white);\n",
       "                }\n",
       "            </style>\n",
       "            "
      ],
      "text/plain": [
       "<IPython.core.display.HTML object>"
      ]
     },
     "metadata": {},
     "output_type": "display_data"
    },
    {
     "name": "stdout",
     "output_type": "stream",
     "text": [
      "night light stat for 2013 {'avg_rad_max': 102.04966735839844, 'avg_rad_mean': 0.32707531115185273, 'avg_rad_min': -0.006043959874659777}\n",
      "night light stat for 2023 {'avg_rad_max': 134.88417053222656, 'avg_rad_mean': 0.8232438975807669, 'avg_rad_min': 0.2175000011920929}\n"
     ]
    },
    {
     "data": {
      "application/vnd.jupyter.widget-view+json": {
       "model_id": "80c3d3138fef469ba8566143b29b1e06",
       "version_major": 2,
       "version_minor": 0
      },
      "text/plain": [
       "Map(center=[0, 0], controls=(WidgetControl(options=['position', 'transparent_bg'], widget=SearchDataGUI(childr…"
      ]
     },
     "execution_count": 63,
     "metadata": {},
     "output_type": "execute_result"
    }
   ],
   "source": [
    "import ee\n",
    "import geemap\n",
    "\n",
    "# Initialize Earth Engine\n",
    "\n",
    "\n",
    "Map = geemap.Map(center=(23.8041, 90.4152), zoom=4)\n",
    "ee.Initialize()\n",
    "\n",
    "\n",
    "\n",
    "# Create a map\n",
    "Map = geemap.Map()\n",
    "\n",
    "# # Load the FAO GAUL dataset\n",
    "table = ee.FeatureCollection(\"FAO/GAUL_SIMPLIFIED_500m/2015/level2\")\n",
    "\n",
    "# // Define the country of interest by filtering the GAUL dataset (e.g., for Bangladesh)\n",
    "roi = table.filter(ee.Filter.eq('ADM0_NAME', 'Bangladesh')).geometry();\n",
    "\n",
    "# // Filter the districts by their names\n",
    "\n",
    "# dhaka = country.filter(ee.Filter.eq('ADM2_NAME', 'Dhaka'));\n",
    "# Map.addLayer(dhaka)\n",
    "\n",
    "# # Define coordinates\n",
    "# cor = [23.8041, 90.4152]\n",
    "# roi = dhaka\n",
    "\n",
    "# # Filter the table based on geometry\n",
    "# roi = table.filterBounds(geometry)\n",
    "\n",
    "# # Add ROI to the map\n",
    "Map.addLayer(roi)\n",
    "\n",
    "# # Center the map on ROI\n",
    "# # Map.centerObject(roi)\n",
    "\n",
    "def night_light(time_start, time_end, loc_name):\n",
    "    viirs = ee.ImageCollection(\"NOAA/VIIRS/DNB/MONTHLY_V1/VCMCFG\") \\\n",
    "        .select('avg_rad') \\\n",
    "        .filterDate(time_start, time_end) \\\n",
    "        .mean()\n",
    "    \n",
    "    stats = viirs.reduceRegion(\n",
    "        reducer=ee.Reducer.mean().combine(reducer2=ee.Reducer.minMax(), sharedInputs=True),\n",
    "        geometry=roi,\n",
    "        scale=500\n",
    "    )\n",
    "    \n",
    "    print(f'night light stat for {time_start}', stats.getInfo())\n",
    "    \n",
    "    Map.addLayer(viirs.clip(roi), {}, f'{loc_name}{time_start}', False)\n",
    "    \n",
    "    return viirs\n",
    "\n",
    "# # Analyze night light for Paris in 2013 and 2023\n",
    "dhaka_2013 = night_light('2013', '2014', 'Dhaka')\n",
    "dhaka_2023 = night_light('2023', '2024', 'Dhaka')\n",
    "\n",
    "\n",
    "Map\n",
    "\n",
    "\n",
    "\n",
    "# task = ee.batch.Export.image.toDrive(image=dhaka_2023,  # an ee.Image object.\n",
    "#                                      region=roi,  # an ee.Geometry object.\n",
    "#                                      description='night_light',\n",
    "#                                      folder='new',\n",
    "#                                      fileNamePrefix='mock_export',\n",
    "#                                      scale=1000,\n",
    "#                                      crs='EPSG:4326')\n",
    "\n",
    "# task.start()\n",
    "\n",
    "# Display the map\n",
    "# Choose one of the following options based on your environment:\n",
    "\n",
    "# Option 1: For Jupyter Notebook\n",
    "# Map.to_notebook()\n",
    "\n",
    "# Option 2: For standalone script (opens in browser)\n",
    "# Map.to_html(\"map.html\")\n",
    "\n",
    "# Option 3: For interactive use in Python console\n",
    "# Map.show()\n",
    "\n",
    "# Add the image to the map.\n",
    "# Map.add_layer(img, None, 'Random image')\n",
    "\n",
    "# Display the map (you can call the object directly if it is the final line).\n",
    "# display(m)\n",
    "\n"
   ]
  },
  {
   "cell_type": "code",
   "execution_count": 58,
   "id": "9a92e9cc-0e9f-4f9c-88bf-4787db3c4e30",
   "metadata": {},
   "outputs": [
    {
     "data": {
      "text/html": [
       "\n",
       "            <style>\n",
       "                .geemap-dark {\n",
       "                    --jp-widgets-color: white;\n",
       "                    --jp-widgets-label-color: white;\n",
       "                    --jp-ui-font-color1: white;\n",
       "                    --jp-layout-color2: #454545;\n",
       "                    background-color: #383838;\n",
       "                }\n",
       "\n",
       "                .geemap-dark .jupyter-button {\n",
       "                    --jp-layout-color3: #383838;\n",
       "                }\n",
       "\n",
       "                .geemap-colab {\n",
       "                    background-color: var(--colab-primary-surface-color, white);\n",
       "                }\n",
       "\n",
       "                .geemap-colab .jupyter-button {\n",
       "                    --jp-layout-color3: var(--colab-primary-surface-color, white);\n",
       "                }\n",
       "            </style>\n",
       "            "
      ],
      "text/plain": [
       "<IPython.core.display.HTML object>"
      ]
     },
     "metadata": {},
     "output_type": "display_data"
    }
   ],
   "source": [
    "geemap.ee_export_image_to_drive(\n",
    "    dhaka_2023, description=\"landsat\", folder=\"export\", region=roi, scale=30\n",
    ")\n"
   ]
  },
  {
   "cell_type": "code",
   "execution_count": 64,
   "id": "e7509469-ab61-4d0d-9cbe-7c4dab1f28a5",
   "metadata": {},
   "outputs": [
    {
     "data": {
      "text/html": [
       "\n",
       "            <style>\n",
       "                .geemap-dark {\n",
       "                    --jp-widgets-color: white;\n",
       "                    --jp-widgets-label-color: white;\n",
       "                    --jp-ui-font-color1: white;\n",
       "                    --jp-layout-color2: #454545;\n",
       "                    background-color: #383838;\n",
       "                }\n",
       "\n",
       "                .geemap-dark .jupyter-button {\n",
       "                    --jp-layout-color3: #383838;\n",
       "                }\n",
       "\n",
       "                .geemap-colab {\n",
       "                    background-color: var(--colab-primary-surface-color, white);\n",
       "                }\n",
       "\n",
       "                .geemap-colab .jupyter-button {\n",
       "                    --jp-layout-color3: var(--colab-primary-surface-color, white);\n",
       "                }\n",
       "            </style>\n",
       "            "
      ],
      "text/plain": [
       "<IPython.core.display.HTML object>"
      ]
     },
     "metadata": {},
     "output_type": "display_data"
    }
   ],
   "source": [
    "task = ee.batch.Export.image.toDrive(image=dhaka_2023,  # an ee.Image object.\n",
    "                                     region=roi,  # an ee.Geometry object.\n",
    "                                     description='mock_export',\n",
    "                                     folder='export',\n",
    "                                     fileNamePrefix='mock_export',\n",
    "                                     scale=1000,\n",
    "                                     crs='EPSG:4326')\n",
    "task.start()"
   ]
  },
  {
   "cell_type": "code",
   "execution_count": 75,
   "id": "c617e305-e1cd-458d-908b-24ada9a6bf4b",
   "metadata": {},
   "outputs": [
    {
     "data": {
      "text/html": [
       "\n",
       "            <style>\n",
       "                .geemap-dark {\n",
       "                    --jp-widgets-color: white;\n",
       "                    --jp-widgets-label-color: white;\n",
       "                    --jp-ui-font-color1: white;\n",
       "                    --jp-layout-color2: #454545;\n",
       "                    background-color: #383838;\n",
       "                }\n",
       "\n",
       "                .geemap-dark .jupyter-button {\n",
       "                    --jp-layout-color3: #383838;\n",
       "                }\n",
       "\n",
       "                .geemap-colab {\n",
       "                    background-color: var(--colab-primary-surface-color, white);\n",
       "                }\n",
       "\n",
       "                .geemap-colab .jupyter-button {\n",
       "                    --jp-layout-color3: var(--colab-primary-surface-color, white);\n",
       "                }\n",
       "            </style>\n",
       "            "
      ],
      "text/plain": [
       "<IPython.core.display.HTML object>"
      ]
     },
     "metadata": {},
     "output_type": "display_data"
    },
    {
     "data": {
      "text/plain": [
       "{'state': 'COMPLETED',\n",
       " 'description': 'mock_export',\n",
       " 'priority': 100,\n",
       " 'creation_timestamp_ms': 1727448459562,\n",
       " 'update_timestamp_ms': 1727448521932,\n",
       " 'start_timestamp_ms': 1727448481286,\n",
       " 'task_type': 'EXPORT_IMAGE',\n",
       " 'destination_uris': ['https://drive.google.com/#folders/112C0-l5iWCZnptvhSm6W6uJdG5TdFCpE'],\n",
       " 'attempt': 1,\n",
       " 'batch_eecu_usage_seconds': 36.918827056884766,\n",
       " 'id': 'JPAKXGGTQKHVPAMLXMTA7Y4Y',\n",
       " 'name': 'projects/512561625709/operations/JPAKXGGTQKHVPAMLXMTA7Y4Y'}"
      ]
     },
     "execution_count": 75,
     "metadata": {},
     "output_type": "execute_result"
    }
   ],
   "source": [
    "task.status()"
   ]
  },
  {
   "cell_type": "code",
   "execution_count": null,
   "id": "1233d3b6-101b-4f15-9474-fc15f9d436ff",
   "metadata": {},
   "outputs": [],
   "source": []
  }
 ],
 "metadata": {
  "kernelspec": {
   "display_name": "Python 3 (ipykernel)",
   "language": "python",
   "name": "python3"
  },
  "language_info": {
   "codemirror_mode": {
    "name": "ipython",
    "version": 3
   },
   "file_extension": ".py",
   "mimetype": "text/x-python",
   "name": "python",
   "nbconvert_exporter": "python",
   "pygments_lexer": "ipython3",
   "version": "3.12.5"
  }
 },
 "nbformat": 4,
 "nbformat_minor": 5
}
