{
 "cells": [
  {
   "cell_type": "code",
   "execution_count": null,
   "id": "94ecefd6-7ff5-4a3f-9c8d-5531b28ae3b1",
   "metadata": {},
   "outputs": [],
   "source": [
    "import pandas as pd\n",
    "import geopandas as gpd\n",
    "import matplotlib.pyplot as plt\n",
    "import warnings\n",
    "warnings.filterwarnings('ignore')\n",
    "import pathlib\n",
    "import os\n",
    "import folium"
   ]
  },
  {
   "cell_type": "code",
   "execution_count": null,
   "id": "4360f7df-796f-4549-8e32-f99606446d03",
   "metadata": {},
   "outputs": [],
   "source": [
    "file_location = 'E:/QGIS/gkpg'\n",
    "\n",
    "population = '/berlin_population.gpkg'\n",
    "\n",
    "pop = gpd.read_file(file_location + population)\n"
   ]
  },
  {
   "cell_type": "code",
   "execution_count": null,
   "id": "4c86aefd-50e5-4777-96da-e96a00d7eb50",
   "metadata": {},
   "outputs": [],
   "source": [
    "# interactive_map = folium.Map(\n",
    "#     location=(60.2, 25.00),\n",
    "#     zoom_start=12,\n",
    "#     tiles='https://{s}.basemaps.cartocdn.com/dark_nolabels/{z}/{x}/{y}{r}.png',\n",
    "#     attr='&copy; <a href=\"https://www.openstreetmap.org/copyright\">OpenStreetMap</a> contributors &copy; <a href=\"https://carto.com/attributions\">CARTO</a>',\n",
    "#     subdomains = 'abcd',\n",
    "#     maxZoom = 20\n",
    "# )\n",
    "# interactive_map\n",
    "\n",
    "# # https://leaflet-extras.github.io/leaflet-providers/preview/"
   ]
  },
  {
   "cell_type": "code",
   "execution_count": null,
   "id": "022e9b5d-6d37-46de-b0b7-6e4cf8605c3b",
   "metadata": {},
   "outputs": [],
   "source": [
    "pop = pop[[\"schluessel\", \"ew2022\", \"geometry\"]]\n",
    "pop = pop.rename(columns={\n",
    "    \"ew2022\": \"population\"\n",
    "})\n",
    "pop[\"schluessel\"] = pop.index.astype(str)"
   ]
  },
  {
   "cell_type": "code",
   "execution_count": null,
   "id": "104571a2-0259-4546-a0dc-5e091193742a",
   "metadata": {},
   "outputs": [],
   "source": [
    "# interactive_map = folium.Map(\n",
    "#     location=(52.52, 13.405),\n",
    "#     zoom_start=12\n",
    "# )\n",
    "\n",
    "# population_grid_layer = folium.Choropleth(\n",
    "#     geo_data=pop,\n",
    "#     data=pop,\n",
    "#     columns=(\"schluessel\", \"population\"),\n",
    "#     key_on=\"feature.id\",\n",
    "#     bins=30,\n",
    "#     fill_color=\"Reds\",\n",
    "#     line_weight=0,\n",
    "#     legend_name=\"Population of Berlin, 2022\",\n",
    "\n",
    "#     highlight=True\n",
    "# )\n",
    "# population_grid_layer.add_to(interactive_map)\n",
    "\n",
    "# interactive_map"
   ]
  },
  {
   "cell_type": "code",
   "execution_count": null,
   "id": "20a19400-60b4-426e-b50b-1db394564239",
   "metadata": {},
   "outputs": [],
   "source": [
    "# # folium GeoJson layers expect a styling function,\n",
    "# # that receives each of the map’s feature and returns\n",
    "# # an individual style. It can, however, also return a\n",
    "# # static style:\n",
    "# def style_function(feature):\n",
    "#     return {\n",
    "#         \"color\": \"transparent\",\n",
    "#         \"fillColor\": \"transparent\"\n",
    "#     }\n",
    "\n",
    "\n",
    "# # More complex tooltips can be created using the\n",
    "# # `folium.features.GeoJsonTooltip` class. Below, we use\n",
    "# # its most basic features: `fields` specifies which columns\n",
    "# # should be displayed, `aliases` how they should be labelled.\n",
    "# tooltip = folium.features.GeoJsonTooltip(\n",
    "#     fields=(\"population\",),\n",
    "#     aliases=(\"Population:\",)\n",
    "# )\n",
    "\n",
    "\n",
    "# tooltip_layer = folium.features.GeoJson(\n",
    "#     pop,\n",
    "#     style_function=style_function,\n",
    "#     tooltip=tooltip\n",
    "# )\n",
    "# tooltip_layer.add_to(interactive_map)\n",
    "\n",
    "# interactive_map"
   ]
  },
  {
   "cell_type": "code",
   "execution_count": null,
   "id": "d4c52e2b-120a-49b9-8f09-7733767f592d",
   "metadata": {},
   "outputs": [],
   "source": [
    "# import pathlib\n",
    "# NOTEBOOK_PATH = pathlib.Path().resolve()\n",
    "# DATA_DIRECTORY = NOTEBOOK_PATH / \"data\"\n",
    "\n",
    "# # We will export HTML pages during this lesson,\n",
    "# # let’s also prepare an output directory for them:\n",
    "# HTML_DIRECTORY = NOTEBOOK_PATH / \"../Map\"\n",
    "# HTML_DIRECTORY.mkdir(exist_ok=True)"
   ]
  },
  {
   "cell_type": "code",
   "execution_count": null,
   "id": "0629bedb-6c7f-408c-8ddd-867afa3ed30f",
   "metadata": {},
   "outputs": [],
   "source": [
    "# interactive_map.save(HTML_DIRECTORY / \"Berlin_Population_2022_new.html\")"
   ]
  }
 ],
 "metadata": {
  "kernelspec": {
   "display_name": "Python 3 (ipykernel)",
   "language": "python",
   "name": "python3"
  },
  "language_info": {
   "codemirror_mode": {
    "name": "ipython",
    "version": 3
   },
   "file_extension": ".py",
   "mimetype": "text/x-python",
   "name": "python",
   "nbconvert_exporter": "python",
   "pygments_lexer": "ipython3",
   "version": "3.12.5"
  }
 },
 "nbformat": 4,
 "nbformat_minor": 5
}
