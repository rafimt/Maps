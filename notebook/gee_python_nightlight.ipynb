{
 "cells": [
  {
   "cell_type": "code",
   "execution_count": 36,
   "id": "2504ef02-7c4c-4e65-b0e3-ca5b38ef6a41",
   "metadata": {},
   "outputs": [
    {
     "data": {
      "text/html": [
       "\n",
       "            <style>\n",
       "                .geemap-dark {\n",
       "                    --jp-widgets-color: white;\n",
       "                    --jp-widgets-label-color: white;\n",
       "                    --jp-ui-font-color1: white;\n",
       "                    --jp-layout-color2: #454545;\n",
       "                    background-color: #383838;\n",
       "                }\n",
       "\n",
       "                .geemap-dark .jupyter-button {\n",
       "                    --jp-layout-color3: #383838;\n",
       "                }\n",
       "\n",
       "                .geemap-colab {\n",
       "                    background-color: var(--colab-primary-surface-color, white);\n",
       "                }\n",
       "\n",
       "                .geemap-colab .jupyter-button {\n",
       "                    --jp-layout-color3: var(--colab-primary-surface-color, white);\n",
       "                }\n",
       "            </style>\n",
       "            "
      ],
      "text/plain": [
       "<IPython.core.display.HTML object>"
      ]
     },
     "metadata": {},
     "output_type": "display_data"
    }
   ],
   "source": [
    "import ee\n",
    "import datetime\n",
    "import geemap\n",
    "import os"
   ]
  },
  {
   "cell_type": "code",
   "execution_count": 2,
   "id": "734032a1-e785-49ac-a019-23d270ceaff3",
   "metadata": {},
   "outputs": [
    {
     "data": {
      "text/html": [
       "<p>To authorize access needed by Earth Engine, open the following\n",
       "        URL in a web browser and follow the instructions:</p>\n",
       "        <p><a href=https://code.earthengine.google.com/client-auth?scopes=https%3A//www.googleapis.com/auth/earthengine%20https%3A//www.googleapis.com/auth/cloud-platform%20https%3A//www.googleapis.com/auth/devstorage.full_control&request_id=EmL_sRyJfFN_S6lAL5QK32l5ZhNbiipwLx6n2bLVi_0&tc=0-0b1jjBKyaBiTfwxj0kkdOhyEqnhdiM0nI4gh4itm8&cc=2Nr4PDZIWGGfe2bOQb6NrkWhfJDvkRE1pNcE2uLs33k>https://code.earthengine.google.com/client-auth?scopes=https%3A//www.googleapis.com/auth/earthengine%20https%3A//www.googleapis.com/auth/cloud-platform%20https%3A//www.googleapis.com/auth/devstorage.full_control&request_id=EmL_sRyJfFN_S6lAL5QK32l5ZhNbiipwLx6n2bLVi_0&tc=0-0b1jjBKyaBiTfwxj0kkdOhyEqnhdiM0nI4gh4itm8&cc=2Nr4PDZIWGGfe2bOQb6NrkWhfJDvkRE1pNcE2uLs33k</a></p>\n",
       "        <p>The authorization workflow will generate a code, which you should paste in the box below.</p>\n",
       "        "
      ],
      "text/plain": [
       "<IPython.core.display.HTML object>"
      ]
     },
     "metadata": {},
     "output_type": "display_data"
    },
    {
     "name": "stdin",
     "output_type": "stream",
     "text": [
      "Enter verification code:  4/1AQlEd8xFPmtkCjcJyVFEXGo-Mkbj-iHPKCk802Aotxn33teQYeQDNcOm2Ww\n"
     ]
    },
    {
     "name": "stdout",
     "output_type": "stream",
     "text": [
      "\n",
      "Successfully saved authorization token.\n"
     ]
    }
   ],
   "source": [
    "# ee.Authenticate()"
   ]
  },
  {
   "cell_type": "code",
   "execution_count": 4,
   "id": "71e1b44e-f361-41e1-ab33-f6723df786c2",
   "metadata": {},
   "outputs": [
    {
     "ename": "SyntaxError",
     "evalue": "invalid syntax (1288648952.py, line 1)",
     "output_type": "error",
     "traceback": [
      "\u001b[1;36m  Cell \u001b[1;32mIn[4], line 1\u001b[1;36m\u001b[0m\n\u001b[1;33m    var table = ee.FeatureCollection(\"FAO/GAUL/2015/level1\")\u001b[0m\n\u001b[1;37m        ^\u001b[0m\n\u001b[1;31mSyntaxError\u001b[0m\u001b[1;31m:\u001b[0m invalid syntax\n"
     ]
    }
   ],
   "source": []
  },
  {
   "cell_type": "code",
   "execution_count": 106,
   "id": "038c8790-f51c-4932-aa0c-96f31d019137",
   "metadata": {},
   "outputs": [
    {
     "data": {
      "text/html": [
       "\n",
       "            <style>\n",
       "                .geemap-dark {\n",
       "                    --jp-widgets-color: white;\n",
       "                    --jp-widgets-label-color: white;\n",
       "                    --jp-ui-font-color1: white;\n",
       "                    --jp-layout-color2: #454545;\n",
       "                    background-color: #383838;\n",
       "                }\n",
       "\n",
       "                .geemap-dark .jupyter-button {\n",
       "                    --jp-layout-color3: #383838;\n",
       "                }\n",
       "\n",
       "                .geemap-colab {\n",
       "                    background-color: var(--colab-primary-surface-color, white);\n",
       "                }\n",
       "\n",
       "                .geemap-colab .jupyter-button {\n",
       "                    --jp-layout-color3: var(--colab-primary-surface-color, white);\n",
       "                }\n",
       "            </style>\n",
       "            "
      ],
      "text/plain": [
       "<IPython.core.display.HTML object>"
      ]
     },
     "metadata": {},
     "output_type": "display_data"
    },
    {
     "name": "stdout",
     "output_type": "stream",
     "text": [
      "night light stat for 2013 {'avg_rad_max': 102.04966735839844, 'avg_rad_mean': 0.32707531115185273, 'avg_rad_min': -0.006043959874659777}\n",
      "night light stat for 2019 {'avg_rad_max': 193.5608367919922, 'avg_rad_mean': 0.6010299322780609, 'avg_rad_min': 0.08999999612569809}\n",
      "night light stat for 2020 {'avg_rad_max': 114.163330078125, 'avg_rad_mean': 0.6119768290364361, 'avg_rad_min': 0.13333332538604736}\n",
      "night light stat for 2021 {'avg_rad_max': 118.33916473388672, 'avg_rad_mean': 0.6807116790834169, 'avg_rad_min': 0.1158333346247673}\n",
      "night light stat for 2022 {'avg_rad_max': 163.81666564941406, 'avg_rad_mean': 0.7596706451546485, 'avg_rad_min': 0.1550000011920929}\n",
      "night light stat for 2024-01-01 {'avg_rad_max': 139.21600341796875, 'avg_rad_mean': 0.9266976766722351, 'avg_rad_min': 0.23399999737739563}\n"
     ]
    },
    {
     "data": {
      "application/vnd.jupyter.widget-view+json": {
       "model_id": "cf7c90d49be64ff9a0f278a2f7c72422",
       "version_major": 2,
       "version_minor": 0
      },
      "text/plain": [
       "Map(center=[0, 0], controls=(WidgetControl(options=['position', 'transparent_bg'], widget=SearchDataGUI(childr…"
      ]
     },
     "execution_count": 106,
     "metadata": {},
     "output_type": "execute_result"
    }
   ],
   "source": [
    "import ee\n",
    "import geemap\n",
    "\n",
    "# Initialize Earth Engine\n",
    "\n",
    "\n",
    "Map = geemap.Map(center=(23.8041, 90.4152), zoom=4)\n",
    "ee.Initialize()\n",
    "\n",
    "\n",
    "\n",
    "# Create a map\n",
    "Map = geemap.Map()\n",
    "\n",
    "# # Load the FAO GAUL dataset\n",
    "table = ee.FeatureCollection(\"FAO/GAUL_SIMPLIFIED_500m/2015/level2\")\n",
    "\n",
    "# // Define the country of interest by filtering the GAUL dataset (e.g., for Bangladesh)\n",
    "roi = table.filter(ee.Filter.eq('ADM0_NAME', 'Bangladesh')).geometry();\n",
    "\n",
    "# // Filter the districts by their names\n",
    "\n",
    "# dhaka = country.filter(ee.Filter.eq('ADM2_NAME', 'Dhaka'));\n",
    "# Map.addLayer(dhaka)\n",
    "\n",
    "# # Define coordinates\n",
    "# cor = [23.8041, 90.4152]\n",
    "# roi = dhaka\n",
    "\n",
    "# # Filter the table based on geometry\n",
    "# roi = table.filterBounds(geometry)\n",
    "\n",
    "# # Add ROI to the map\n",
    "Map.addLayer(roi)\n",
    "\n",
    "# # Center the map on ROI\n",
    "# # Map.centerObject(roi)\n",
    "\n",
    "def night_light(time_start, time_end, loc_name):\n",
    "    viirs = ee.ImageCollection(\"NOAA/VIIRS/DNB/MONTHLY_V1/VCMCFG\") \\\n",
    "        .select('avg_rad') \\\n",
    "        .filterDate(time_start, time_end) \\\n",
    "        .mean()\n",
    "    \n",
    "    stats = viirs.reduceRegion(\n",
    "        reducer=ee.Reducer.mean().combine(reducer2=ee.Reducer.minMax(), sharedInputs=True),\n",
    "        geometry=roi,\n",
    "        scale=500\n",
    "    )\n",
    "    \n",
    "    print(f'night light stat for {time_start}', stats.getInfo())\n",
    "    \n",
    "    Map.addLayer(viirs.clip(roi), {}, f'{loc_name}{time_start}', False)\n",
    "    \n",
    "    return viirs\n",
    "\n",
    "# # Analyze night light for Paris in 2013 and 2023\n",
    "dhaka_2013 = night_light('2013', '2014', 'Dhaka')\n",
    "dhaka_2019 = night_light('2019', '2020', 'Dhaka')\n",
    "dhaka_2020 = night_light('2020', '2021', 'Dhaka')\n",
    "dhaka_2021 = night_light('2021', '2022', 'Dhaka')\n",
    "dhaka_2022 = night_light('2022', '2023', 'Dhaka')\n",
    "dhaka_2024 = night_light('2024-01-01', '2024-08-31', 'Dhaka')\n",
    "# dhaka_2023 = night_light('2023', '2024', 'Dhaka')\n",
    "\n",
    "\n",
    "Map\n",
    "\n",
    "\n",
    "\n",
    "# task = ee.batch.Export.image.toDrive(image=dhaka_2023,  # an ee.Image object.\n",
    "#                                      region=roi,  # an ee.Geometry object.\n",
    "#                                      description='night_light',\n",
    "#                                      folder='new',\n",
    "#                                      fileNamePrefix='mock_export',\n",
    "#                                      scale=1000,\n",
    "#                                      crs='EPSG:4326')\n",
    "\n",
    "# task.start()\n",
    "\n",
    "# Display the map\n",
    "# Choose one of the following options based on your environment:\n",
    "\n",
    "# Option 1: For Jupyter Notebook\n",
    "# Map.to_notebook()\n",
    "\n",
    "# Option 2: For standalone script (opens in browser)\n",
    "# Map.to_html(\"map.html\")\n",
    "\n",
    "# Option 3: For interactive use in Python console\n",
    "# Map.show()\n",
    "\n",
    "# Add the image to the map.\n",
    "# Map.add_layer(img, None, 'Random image')\n",
    "\n",
    "# Display the map (you can call the object directly if it is the final line).\n",
    "# display(m)\n",
    "\n"
   ]
  },
  {
   "cell_type": "code",
   "execution_count": 58,
   "id": "9a92e9cc-0e9f-4f9c-88bf-4787db3c4e30",
   "metadata": {},
   "outputs": [
    {
     "data": {
      "text/html": [
       "\n",
       "            <style>\n",
       "                .geemap-dark {\n",
       "                    --jp-widgets-color: white;\n",
       "                    --jp-widgets-label-color: white;\n",
       "                    --jp-ui-font-color1: white;\n",
       "                    --jp-layout-color2: #454545;\n",
       "                    background-color: #383838;\n",
       "                }\n",
       "\n",
       "                .geemap-dark .jupyter-button {\n",
       "                    --jp-layout-color3: #383838;\n",
       "                }\n",
       "\n",
       "                .geemap-colab {\n",
       "                    background-color: var(--colab-primary-surface-color, white);\n",
       "                }\n",
       "\n",
       "                .geemap-colab .jupyter-button {\n",
       "                    --jp-layout-color3: var(--colab-primary-surface-color, white);\n",
       "                }\n",
       "            </style>\n",
       "            "
      ],
      "text/plain": [
       "<IPython.core.display.HTML object>"
      ]
     },
     "metadata": {},
     "output_type": "display_data"
    }
   ],
   "source": [
    "geemap.ee_export_image_to_drive(\n",
    "    dhaka_2023, description=\"landsat\", folder=\"export\", region=roi, scale=30\n",
    ")\n"
   ]
  },
  {
   "cell_type": "code",
   "execution_count": 107,
   "id": "e7509469-ab61-4d0d-9cbe-7c4dab1f28a5",
   "metadata": {},
   "outputs": [
    {
     "data": {
      "text/html": [
       "\n",
       "            <style>\n",
       "                .geemap-dark {\n",
       "                    --jp-widgets-color: white;\n",
       "                    --jp-widgets-label-color: white;\n",
       "                    --jp-ui-font-color1: white;\n",
       "                    --jp-layout-color2: #454545;\n",
       "                    background-color: #383838;\n",
       "                }\n",
       "\n",
       "                .geemap-dark .jupyter-button {\n",
       "                    --jp-layout-color3: #383838;\n",
       "                }\n",
       "\n",
       "                .geemap-colab {\n",
       "                    background-color: var(--colab-primary-surface-color, white);\n",
       "                }\n",
       "\n",
       "                .geemap-colab .jupyter-button {\n",
       "                    --jp-layout-color3: var(--colab-primary-surface-color, white);\n",
       "                }\n",
       "            </style>\n",
       "            "
      ],
      "text/plain": [
       "<IPython.core.display.HTML object>"
      ]
     },
     "metadata": {},
     "output_type": "display_data"
    }
   ],
   "source": [
    "task1 = ee.batch.Export.image.toDrive(image=dhaka_2013,  # an ee.Image object.\n",
    "                                     region=roi,  # an ee.Geometry object.\n",
    "                                     description='2016',\n",
    "                                     folder='export',\n",
    "                                     fileNamePrefix='2013',\n",
    "                                     scale=1000,\n",
    "                                     crs='EPSG:4326')\n",
    "task1.start()\n",
    "\n",
    "task2 = ee.batch.Export.image.toDrive(image=dhaka_2019,  # an ee.Image object.\n",
    "                                     region=roi,  # an ee.Geometry object.\n",
    "                                     description='2016',\n",
    "                                     folder='export',\n",
    "                                     fileNamePrefix='2019',\n",
    "                                     scale=1000,\n",
    "                                     crs='EPSG:4326')\n",
    "task2.start()\n",
    "task3 = ee.batch.Export.image.toDrive(image=dhaka_2020,  # an ee.Image object.\n",
    "                                     region=roi,  # an ee.Geometry object.\n",
    "                                     description='2016',\n",
    "                                     folder='export',\n",
    "                                     fileNamePrefix='2020',\n",
    "                                     scale=1000,\n",
    "                                     crs='EPSG:4326')\n",
    "task3.start()\n",
    "task4 = ee.batch.Export.image.toDrive(image=dhaka_2021,  # an ee.Image object.\n",
    "                                     region=roi,  # an ee.Geometry object.\n",
    "                                     description='2016',\n",
    "                                     folder='export',\n",
    "                                     fileNamePrefix='2021',\n",
    "                                     scale=1000,\n",
    "                                     crs='EPSG:4326')\n",
    "task4.start()\n",
    "task5 = ee.batch.Export.image.toDrive(image=dhaka_2022,  # an ee.Image object.\n",
    "                                     region=roi,  # an ee.Geometry object.\n",
    "                                     description='2016',\n",
    "                                     folder='export',\n",
    "                                     fileNamePrefix='2022',\n",
    "                                     scale=1000,\n",
    "                                     crs='EPSG:4326')\n",
    "task5.start()\n",
    "task6 = ee.batch.Export.image.toDrive(image=dhaka_2024,  # an ee.Image object.\n",
    "                                     region=roi,  # an ee.Geometry object.\n",
    "                                     description='2016',\n",
    "                                     folder='export',\n",
    "                                     fileNamePrefix='2024',\n",
    "                                     scale=1000,\n",
    "                                     crs='EPSG:4326')\n",
    "task6.start()"
   ]
  },
  {
   "cell_type": "code",
   "execution_count": 105,
   "id": "c617e305-e1cd-458d-908b-24ada9a6bf4b",
   "metadata": {},
   "outputs": [
    {
     "data": {
      "text/html": [
       "\n",
       "            <style>\n",
       "                .geemap-dark {\n",
       "                    --jp-widgets-color: white;\n",
       "                    --jp-widgets-label-color: white;\n",
       "                    --jp-ui-font-color1: white;\n",
       "                    --jp-layout-color2: #454545;\n",
       "                    background-color: #383838;\n",
       "                }\n",
       "\n",
       "                .geemap-dark .jupyter-button {\n",
       "                    --jp-layout-color3: #383838;\n",
       "                }\n",
       "\n",
       "                .geemap-colab {\n",
       "                    background-color: var(--colab-primary-surface-color, white);\n",
       "                }\n",
       "\n",
       "                .geemap-colab .jupyter-button {\n",
       "                    --jp-layout-color3: var(--colab-primary-surface-color, white);\n",
       "                }\n",
       "            </style>\n",
       "            "
      ],
      "text/plain": [
       "<IPython.core.display.HTML object>"
      ]
     },
     "metadata": {},
     "output_type": "display_data"
    },
    {
     "data": {
      "text/plain": [
       "{'state': 'READY',\n",
       " 'description': '2016',\n",
       " 'priority': 100,\n",
       " 'creation_timestamp_ms': 1727460884016,\n",
       " 'update_timestamp_ms': 1727460884016,\n",
       " 'start_timestamp_ms': 0,\n",
       " 'task_type': 'EXPORT_IMAGE',\n",
       " 'id': 'E4VYGPE72IEL2U2SL6VEOKSC',\n",
       " 'name': 'projects/512561625709/operations/E4VYGPE72IEL2U2SL6VEOKSC'}"
      ]
     },
     "execution_count": 105,
     "metadata": {},
     "output_type": "execute_result"
    }
   ],
   "source": [
    "task.status()"
   ]
  },
  {
   "cell_type": "code",
   "execution_count": null,
   "id": "2cef3d90-2c53-43a5-828e-e70e0078401d",
   "metadata": {},
   "outputs": [],
   "source": []
  }
 ],
 "metadata": {
  "kernelspec": {
   "display_name": "Python 3 (ipykernel)",
   "language": "python",
   "name": "python3"
  },
  "language_info": {
   "codemirror_mode": {
    "name": "ipython",
    "version": 3
   },
   "file_extension": ".py",
   "mimetype": "text/x-python",
   "name": "python",
   "nbconvert_exporter": "python",
   "pygments_lexer": "ipython3",
   "version": "3.12.5"
  }
 },
 "nbformat": 4,
 "nbformat_minor": 5
}
