{
 "cells": [
  {
   "cell_type": "code",
   "execution_count": 1,
   "id": "e6ecf8b6-36ee-414d-aa74-71de9814fe4d",
   "metadata": {
    "jupyter": {
     "source_hidden": true
    }
   },
   "outputs": [],
   "source": [
    "import os\n",
    "import ee\n",
    "import geemap\n",
    "import ipywidgets as widgets"
   ]
  },
  {
   "cell_type": "code",
   "execution_count": 2,
   "id": "77ac5658-8f92-48d4-a8d3-f5250b0f0193",
   "metadata": {
    "jupyter": {
     "source_hidden": true
    }
   },
   "outputs": [
    {
     "data": {
      "text/html": [
       "\n",
       "            <style>\n",
       "                .geemap-dark {\n",
       "                    --jp-widgets-color: white;\n",
       "                    --jp-widgets-label-color: white;\n",
       "                    --jp-ui-font-color1: white;\n",
       "                    --jp-layout-color2: #454545;\n",
       "                    background-color: #383838;\n",
       "                }\n",
       "\n",
       "                .geemap-dark .jupyter-button {\n",
       "                    --jp-layout-color3: #383838;\n",
       "                }\n",
       "\n",
       "                .geemap-colab {\n",
       "                    background-color: var(--colab-primary-surface-color, white);\n",
       "                }\n",
       "\n",
       "                .geemap-colab .jupyter-button {\n",
       "                    --jp-layout-color3: var(--colab-primary-surface-color, white);\n",
       "                }\n",
       "            </style>\n",
       "            "
      ],
      "text/plain": [
       "<IPython.core.display.HTML object>"
      ]
     },
     "metadata": {},
     "output_type": "display_data"
    },
    {
     "data": {
      "application/vnd.jupyter.widget-view+json": {
       "model_id": "20f79fff0a4e43c3b39cd73bd76d1eba",
       "version_major": 2,
       "version_minor": 0
      },
      "text/plain": [
       "Map(center=[0, 0], controls=(WidgetControl(options=['position', 'transparent_bg'], widget=SearchDataGUI(childr…"
      ]
     },
     "execution_count": 2,
     "metadata": {},
     "output_type": "execute_result"
    }
   ],
   "source": [
    "Map = geemap.Map()\n",
    "Map.add_basemap(\"HYBRID\")\n",
    "Map"
   ]
  },
  {
   "cell_type": "code",
   "execution_count": 3,
   "id": "221223f4-4fea-4d4f-8a86-941b52a63fc4",
   "metadata": {
    "jupyter": {
     "source_hidden": true
    }
   },
   "outputs": [
    {
     "data": {
      "text/html": [
       "\n",
       "            <style>\n",
       "                .geemap-dark {\n",
       "                    --jp-widgets-color: white;\n",
       "                    --jp-widgets-label-color: white;\n",
       "                    --jp-ui-font-color1: white;\n",
       "                    --jp-layout-color2: #454545;\n",
       "                    background-color: #383838;\n",
       "                }\n",
       "\n",
       "                .geemap-dark .jupyter-button {\n",
       "                    --jp-layout-color3: #383838;\n",
       "                }\n",
       "\n",
       "                .geemap-colab {\n",
       "                    background-color: var(--colab-primary-surface-color, white);\n",
       "                }\n",
       "\n",
       "                .geemap-colab .jupyter-button {\n",
       "                    --jp-layout-color3: var(--colab-primary-surface-color, white);\n",
       "                }\n",
       "            </style>\n",
       "            "
      ],
      "text/plain": [
       "<IPython.core.display.HTML object>"
      ]
     },
     "metadata": {},
     "output_type": "display_data"
    },
    {
     "data": {
      "application/vnd.jupyter.widget-view+json": {
       "model_id": "3c531e3f1ab94360a2246cb1e075bd66",
       "version_major": 2,
       "version_minor": 0
      },
      "text/plain": [
       "HBox(children=(Text(value='Landsat Timelapse', description='Title:', style=TextStyle(description_width='initia…"
      ]
     },
     "execution_count": 3,
     "metadata": {},
     "output_type": "execute_result"
    }
   ],
   "source": [
    "style = {\"description_width\": \"initial\"}\n",
    "title = widgets.Text(\n",
    "    description=\"Title:\", value=\"Landsat Timelapse\", width=200, style=style\n",
    ")\n",
    "\n",
    "bands = widgets.Dropdown(\n",
    "    description=\"Select RGB Combo:\",\n",
    "    options=[\n",
    "        \"Red/Green/Blue\",\n",
    "        \"NIR/Red/Green\",\n",
    "        \"SWIR2/SWIR1/NIR\",\n",
    "        \"NIR/SWIR1/Red\",\n",
    "        \"SWIR2/NIR/Red\",\n",
    "        \"SWIR2/SWIR1/Red\",\n",
    "        \"SWIR1/NIR/Blue\",\n",
    "        \"NIR/SWIR1/Blue\",\n",
    "        \"SWIR2/NIR/Green\",\n",
    "        \"SWIR1/NIR/Red\",\n",
    "    ],\n",
    "    value=\"NIR/Red/Green\",\n",
    "    style=style,\n",
    ")\n",
    "\n",
    "hbox1 = widgets.HBox([title, bands])\n",
    "hbox1"
   ]
  },
  {
   "cell_type": "code",
   "execution_count": 4,
   "id": "e2860641-c500-4a5a-a45b-39c514f7f635",
   "metadata": {
    "jupyter": {
     "source_hidden": true
    }
   },
   "outputs": [
    {
     "data": {
      "text/html": [
       "\n",
       "            <style>\n",
       "                .geemap-dark {\n",
       "                    --jp-widgets-color: white;\n",
       "                    --jp-widgets-label-color: white;\n",
       "                    --jp-ui-font-color1: white;\n",
       "                    --jp-layout-color2: #454545;\n",
       "                    background-color: #383838;\n",
       "                }\n",
       "\n",
       "                .geemap-dark .jupyter-button {\n",
       "                    --jp-layout-color3: #383838;\n",
       "                }\n",
       "\n",
       "                .geemap-colab {\n",
       "                    background-color: var(--colab-primary-surface-color, white);\n",
       "                }\n",
       "\n",
       "                .geemap-colab .jupyter-button {\n",
       "                    --jp-layout-color3: var(--colab-primary-surface-color, white);\n",
       "                }\n",
       "            </style>\n",
       "            "
      ],
      "text/plain": [
       "<IPython.core.display.HTML object>"
      ]
     },
     "metadata": {},
     "output_type": "display_data"
    },
    {
     "data": {
      "application/vnd.jupyter.widget-view+json": {
       "model_id": "ef8170a80b4245d9b62f688db46672b1",
       "version_major": 2,
       "version_minor": 0
      },
      "text/plain": [
       "HBox(children=(IntSlider(value=10, description='  Frames per second:', max=30, min=1, style=SliderStyle(descri…"
      ]
     },
     "execution_count": 4,
     "metadata": {},
     "output_type": "execute_result"
    }
   ],
   "source": [
    "speed = widgets.IntSlider(\n",
    "    description=\"  Frames per second:\",\n",
    "    tooltip=\"Frames per second:\",\n",
    "    value=10,\n",
    "    min=1,\n",
    "    max=30,\n",
    "    style=style,\n",
    ")\n",
    "\n",
    "cloud = widgets.Checkbox(\n",
    "    value=True, description=\"Apply fmask (remove clouds, shadows, snow)\", style=style\n",
    ")\n",
    "\n",
    "hbox2 = widgets.HBox([speed, cloud])\n",
    "hbox2"
   ]
  },
  {
   "cell_type": "code",
   "execution_count": 5,
   "id": "09363278-3258-41f7-9e09-bb0075d5e522",
   "metadata": {
    "jupyter": {
     "source_hidden": true
    }
   },
   "outputs": [
    {
     "data": {
      "text/html": [
       "\n",
       "            <style>\n",
       "                .geemap-dark {\n",
       "                    --jp-widgets-color: white;\n",
       "                    --jp-widgets-label-color: white;\n",
       "                    --jp-ui-font-color1: white;\n",
       "                    --jp-layout-color2: #454545;\n",
       "                    background-color: #383838;\n",
       "                }\n",
       "\n",
       "                .geemap-dark .jupyter-button {\n",
       "                    --jp-layout-color3: #383838;\n",
       "                }\n",
       "\n",
       "                .geemap-colab {\n",
       "                    background-color: var(--colab-primary-surface-color, white);\n",
       "                }\n",
       "\n",
       "                .geemap-colab .jupyter-button {\n",
       "                    --jp-layout-color3: var(--colab-primary-surface-color, white);\n",
       "                }\n",
       "            </style>\n",
       "            "
      ],
      "text/plain": [
       "<IPython.core.display.HTML object>"
      ]
     },
     "metadata": {},
     "output_type": "display_data"
    },
    {
     "data": {
      "application/vnd.jupyter.widget-view+json": {
       "model_id": "5f6799e8337f49a3a497ae7b066139aa",
       "version_major": 2,
       "version_minor": 0
      },
      "text/plain": [
       "HBox(children=(IntSlider(value=1984, description='Start Year:', max=2024, min=1984, style=SliderStyle(descript…"
      ]
     },
     "execution_count": 5,
     "metadata": {},
     "output_type": "execute_result"
    }
   ],
   "source": [
    "start_year = widgets.IntSlider(\n",
    "    description=\"Start Year:\", value=1984, min=1984, max=2024, style=style\n",
    ")\n",
    "end_year = widgets.IntSlider(\n",
    "    description=\"End Year:\", value=2024, min=1984, max=2024, style=style\n",
    ")\n",
    "start_month = widgets.IntSlider(\n",
    "    description=\"Start Month:\", value=5, min=1, max=12, style=style\n",
    ")\n",
    "end_month = widgets.IntSlider(\n",
    "    description=\"End Month:\", value=10, min=1, max=12, style=style\n",
    ")\n",
    "hbox3 = widgets.HBox([start_year, end_year, start_month, end_month])\n",
    "hbox3"
   ]
  },
  {
   "cell_type": "code",
   "execution_count": 6,
   "id": "c6f99d83-2892-4822-8741-95a7623526c8",
   "metadata": {
    "jupyter": {
     "source_hidden": true
    }
   },
   "outputs": [
    {
     "data": {
      "text/html": [
       "\n",
       "            <style>\n",
       "                .geemap-dark {\n",
       "                    --jp-widgets-color: white;\n",
       "                    --jp-widgets-label-color: white;\n",
       "                    --jp-ui-font-color1: white;\n",
       "                    --jp-layout-color2: #454545;\n",
       "                    background-color: #383838;\n",
       "                }\n",
       "\n",
       "                .geemap-dark .jupyter-button {\n",
       "                    --jp-layout-color3: #383838;\n",
       "                }\n",
       "\n",
       "                .geemap-colab {\n",
       "                    background-color: var(--colab-primary-surface-color, white);\n",
       "                }\n",
       "\n",
       "                .geemap-colab .jupyter-button {\n",
       "                    --jp-layout-color3: var(--colab-primary-surface-color, white);\n",
       "                }\n",
       "            </style>\n",
       "            "
      ],
      "text/plain": [
       "<IPython.core.display.HTML object>"
      ]
     },
     "metadata": {},
     "output_type": "display_data"
    },
    {
     "data": {
      "application/vnd.jupyter.widget-view+json": {
       "model_id": "6201f39ff5fc45f584b0f49306f6686d",
       "version_major": 2,
       "version_minor": 0
      },
      "text/plain": [
       "HBox(children=(IntSlider(value=30, description='Font size:', max=50, min=10, style=SliderStyle(description_wid…"
      ]
     },
     "execution_count": 6,
     "metadata": {},
     "output_type": "execute_result"
    }
   ],
   "source": [
    "font_size = widgets.IntSlider(\n",
    "    description=\"Font size:\", value=30, min=10, max=50, style=style\n",
    ")\n",
    "\n",
    "font_color = widgets.ColorPicker(\n",
    "    concise=False, description=\"Font color:\", value=\"white\", style=style\n",
    ")\n",
    "\n",
    "progress_bar_color = widgets.ColorPicker(\n",
    "    concise=False, description=\"Progress bar color:\", value=\"blue\", style=style\n",
    ")\n",
    "\n",
    "hbox4 = widgets.HBox([font_size, font_color, progress_bar_color])\n",
    "hbox4"
   ]
  },
  {
   "cell_type": "code",
   "execution_count": 7,
   "id": "cde77730-ad3f-4583-b8c3-bdd7650facac",
   "metadata": {
    "jupyter": {
     "source_hidden": true
    }
   },
   "outputs": [
    {
     "data": {
      "text/html": [
       "\n",
       "            <style>\n",
       "                .geemap-dark {\n",
       "                    --jp-widgets-color: white;\n",
       "                    --jp-widgets-label-color: white;\n",
       "                    --jp-ui-font-color1: white;\n",
       "                    --jp-layout-color2: #454545;\n",
       "                    background-color: #383838;\n",
       "                }\n",
       "\n",
       "                .geemap-dark .jupyter-button {\n",
       "                    --jp-layout-color3: #383838;\n",
       "                }\n",
       "\n",
       "                .geemap-colab {\n",
       "                    background-color: var(--colab-primary-surface-color, white);\n",
       "                }\n",
       "\n",
       "                .geemap-colab .jupyter-button {\n",
       "                    --jp-layout-color3: var(--colab-primary-surface-color, white);\n",
       "                }\n",
       "            </style>\n",
       "            "
      ],
      "text/plain": [
       "<IPython.core.display.HTML object>"
      ]
     },
     "metadata": {},
     "output_type": "display_data"
    },
    {
     "data": {
      "application/vnd.jupyter.widget-view+json": {
       "model_id": "3dfa762e2cb84a6eb40fde2f7f2d2298",
       "version_major": 2,
       "version_minor": 0
      },
      "text/plain": [
       "HBox(children=(Dropdown(description='Normalized Difference Index:', options=('Vegetation Index (NDVI)', 'Water…"
      ]
     },
     "execution_count": 7,
     "metadata": {},
     "output_type": "execute_result"
    }
   ],
   "source": [
    "# Normalized Satellite Indices: https://www.usna.edu/Users/oceano/pguth/md_help/html/norm_sat.htm\n",
    "\n",
    "nd_options = [\n",
    "    \"Vegetation Index (NDVI)\",\n",
    "    \"Water Index (NDWI)\",\n",
    "    \"Modified Water Index (MNDWI)\",\n",
    "    \"Snow Index (NDSI)\",\n",
    "    \"Soil Index (NDSI)\",\n",
    "    \"Burn Ratio (NBR)\",\n",
    "    \"Customized\",\n",
    "]\n",
    "nd_indices = widgets.Dropdown(\n",
    "    options=nd_options,\n",
    "    value=None,\n",
    "    description=\"Normalized Difference Index:\",\n",
    "    style=style,\n",
    ")\n",
    "\n",
    "first_band = widgets.Dropdown(\n",
    "    description=\"1st band:\",\n",
    "    options=[\"Blue\", \"Green\", \"Red\", \"NIR\", \"SWIR1\", \"SWIR2\"],\n",
    "    value=None,\n",
    "    style=style,\n",
    ")\n",
    "\n",
    "second_band = widgets.Dropdown(\n",
    "    description=\"2nd band:\",\n",
    "    options=[\"Blue\", \"Green\", \"Red\", \"NIR\", \"SWIR1\", \"SWIR2\"],\n",
    "    value=None,\n",
    "    style=style,\n",
    ")\n",
    "\n",
    "nd_threshold = widgets.FloatSlider(\n",
    "    value=0,\n",
    "    min=-1,\n",
    "    max=1,\n",
    "    step=0.01,\n",
    "    description=\"Threshold:\",\n",
    "    orientation=\"horizontal\",\n",
    ")\n",
    "\n",
    "nd_color = widgets.ColorPicker(\n",
    "    concise=False, description=\"Color:\", value=\"blue\", style=style\n",
    ")\n",
    "\n",
    "\n",
    "def nd_index_change(change):\n",
    "    if nd_indices.value == \"Vegetation Index (NDVI)\":\n",
    "        first_band.value = \"NIR\"\n",
    "        second_band.value = \"Red\"\n",
    "    elif nd_indices.value == \"Water Index (NDWI)\":\n",
    "        first_band.value = \"NIR\"\n",
    "        second_band.value = \"SWIR1\"\n",
    "    elif nd_indices.value == \"Modified Water Index (MNDWI)\":\n",
    "        first_band.value = \"Green\"\n",
    "        second_band.value = \"SWIR1\"\n",
    "    elif nd_indices.value == \"Snow Index (NDSI)\":\n",
    "        first_band.value = \"Green\"\n",
    "        second_band.value = \"SWIR1\"\n",
    "    elif nd_indices.value == \"Soil Index (NDSI)\":\n",
    "        first_band.value = \"SWIR1\"\n",
    "        second_band.value = \"NIR\"\n",
    "    elif nd_indices.value == \"Burn Ratio (NBR)\":\n",
    "        first_band.value = \"NIR\"\n",
    "        second_band.value = \"SWIR2\"\n",
    "    elif nd_indices.value == \"Customized\":\n",
    "        first_band.value = None\n",
    "        second_band.value = None\n",
    "\n",
    "\n",
    "nd_indices.observe(nd_index_change, names=\"value\")\n",
    "\n",
    "hbox5 = widgets.HBox([nd_indices, first_band, second_band, nd_threshold, nd_color])\n",
    "hbox5"
   ]
  },
  {
   "cell_type": "code",
   "execution_count": 8,
   "id": "b2346be1-583f-45fe-944f-53ffc93343be",
   "metadata": {
    "jupyter": {
     "source_hidden": true
    }
   },
   "outputs": [
    {
     "data": {
      "text/html": [
       "\n",
       "            <style>\n",
       "                .geemap-dark {\n",
       "                    --jp-widgets-color: white;\n",
       "                    --jp-widgets-label-color: white;\n",
       "                    --jp-ui-font-color1: white;\n",
       "                    --jp-layout-color2: #454545;\n",
       "                    background-color: #383838;\n",
       "                }\n",
       "\n",
       "                .geemap-dark .jupyter-button {\n",
       "                    --jp-layout-color3: #383838;\n",
       "                }\n",
       "\n",
       "                .geemap-colab {\n",
       "                    background-color: var(--colab-primary-surface-color, white);\n",
       "                }\n",
       "\n",
       "                .geemap-colab .jupyter-button {\n",
       "                    --jp-layout-color3: var(--colab-primary-surface-color, white);\n",
       "                }\n",
       "            </style>\n",
       "            "
      ],
      "text/plain": [
       "<IPython.core.display.HTML object>"
      ]
     },
     "metadata": {},
     "output_type": "display_data"
    },
    {
     "data": {
      "application/vnd.jupyter.widget-view+json": {
       "model_id": "7b22b78df5214d65992ab533848e44be",
       "version_major": 2,
       "version_minor": 0
      },
      "text/plain": [
       "HBox(children=(Button(button_style='primary', description='Create timelapse', style=ButtonStyle(), tooltip='Cl…"
      ]
     },
     "execution_count": 8,
     "metadata": {},
     "output_type": "execute_result"
    }
   ],
   "source": [
    "create_gif = widgets.Button(\n",
    "    description=\"Create timelapse\",\n",
    "    button_style=\"primary\",\n",
    "    tooltip=\"Click to create timelapse\",\n",
    "    style=style,\n",
    ")\n",
    "\n",
    "download_gif = widgets.Button(\n",
    "    description=\"Download GIF\",\n",
    "    button_style=\"primary\",\n",
    "    tooltip=\"Click to download timelapse\",\n",
    "    disabled=False,\n",
    "    style=style,\n",
    ")\n",
    "\n",
    "output = widgets.Output()\n",
    "\n",
    "hbox5 = widgets.HBox([create_gif])\n",
    "hbox5"
   ]
  },
  {
   "cell_type": "code",
   "execution_count": 9,
   "id": "11d79a3a-d940-4fe4-9bed-bde451d8cb17",
   "metadata": {
    "jupyter": {
     "source_hidden": true
    }
   },
   "outputs": [
    {
     "data": {
      "text/html": [
       "\n",
       "            <style>\n",
       "                .geemap-dark {\n",
       "                    --jp-widgets-color: white;\n",
       "                    --jp-widgets-label-color: white;\n",
       "                    --jp-ui-font-color1: white;\n",
       "                    --jp-layout-color2: #454545;\n",
       "                    background-color: #383838;\n",
       "                }\n",
       "\n",
       "                .geemap-dark .jupyter-button {\n",
       "                    --jp-layout-color3: #383838;\n",
       "                }\n",
       "\n",
       "                .geemap-colab {\n",
       "                    background-color: var(--colab-primary-surface-color, white);\n",
       "                }\n",
       "\n",
       "                .geemap-colab .jupyter-button {\n",
       "                    --jp-layout-color3: var(--colab-primary-surface-color, white);\n",
       "                }\n",
       "            </style>\n",
       "            "
      ],
      "text/plain": [
       "<IPython.core.display.HTML object>"
      ]
     },
     "metadata": {},
     "output_type": "display_data"
    }
   ],
   "source": [
    "def submit_clicked(b):\n",
    "    with output:\n",
    "        output.clear_output()\n",
    "        if start_year.value > end_year.value:\n",
    "            print(\"The end year must be great than the start year.\")\n",
    "            return\n",
    "        if start_month.value > end_month.value:\n",
    "            print(\"The end month must be great than the start month.\")\n",
    "            return\n",
    "        if start_year.value == end_year.value:\n",
    "            add_progress_bar = False\n",
    "        else:\n",
    "            add_progress_bar = True\n",
    "\n",
    "        start_date = str(start_month.value).zfill(2) + \"-01\"\n",
    "        end_date = str(end_month.value).zfill(2) + \"-30\"\n",
    "\n",
    "        print(\"Computing...\")\n",
    "\n",
    "        nd_bands = None\n",
    "        if (first_band.value is not None) and (second_band.value is not None):\n",
    "            nd_bands = [first_band.value, second_band.value]\n",
    "\n",
    "        Map.add_landsat_ts_gif(\n",
    "            roi=Map.user_roi,\n",
    "            label=title.value,\n",
    "            start_year=start_year.value,\n",
    "            end_year=end_year.value,\n",
    "            start_date=start_date,\n",
    "            end_date=end_date,\n",
    "            bands=bands.value.split(\"/\"),\n",
    "            font_color=font_color.value,\n",
    "            frames_per_second=speed.value,\n",
    "            font_size=font_size.value,\n",
    "            add_progress_bar=add_progress_bar,\n",
    "            progress_bar_color=progress_bar_color.value,\n",
    "            download=True,\n",
    "            apply_fmask=cloud.value,\n",
    "            nd_bands=nd_bands,\n",
    "            nd_threshold=nd_threshold.value,\n",
    "            nd_palette=[\"black\", nd_color.value],\n",
    "        )\n",
    "\n",
    "\n",
    "create_gif.on_click(submit_clicked)"
   ]
  },
  {
   "cell_type": "code",
   "execution_count": 10,
   "id": "0fd8900c-1dbb-4c0f-adc4-540d9347f1aa",
   "metadata": {},
   "outputs": [
    {
     "data": {
      "text/html": [
       "\n",
       "            <style>\n",
       "                .geemap-dark {\n",
       "                    --jp-widgets-color: white;\n",
       "                    --jp-widgets-label-color: white;\n",
       "                    --jp-ui-font-color1: white;\n",
       "                    --jp-layout-color2: #454545;\n",
       "                    background-color: #383838;\n",
       "                }\n",
       "\n",
       "                .geemap-dark .jupyter-button {\n",
       "                    --jp-layout-color3: #383838;\n",
       "                }\n",
       "\n",
       "                .geemap-colab {\n",
       "                    background-color: var(--colab-primary-surface-color, white);\n",
       "                }\n",
       "\n",
       "                .geemap-colab .jupyter-button {\n",
       "                    --jp-layout-color3: var(--colab-primary-surface-color, white);\n",
       "                }\n",
       "            </style>\n",
       "            "
      ],
      "text/plain": [
       "<IPython.core.display.HTML object>"
      ]
     },
     "metadata": {},
     "output_type": "display_data"
    },
    {
     "data": {
      "application/vnd.jupyter.widget-view+json": {
       "model_id": "7d65e2d3d81d40ea98595750f25a1c6f",
       "version_major": 2,
       "version_minor": 0
      },
      "text/plain": [
       "Output()"
      ]
     },
     "execution_count": 10,
     "metadata": {},
     "output_type": "execute_result"
    }
   ],
   "source": [
    "output"
   ]
  }
 ],
 "metadata": {
  "kernelspec": {
   "display_name": "Python 3 (ipykernel)",
   "language": "python",
   "name": "python3"
  },
  "language_info": {
   "codemirror_mode": {
    "name": "ipython",
    "version": 3
   },
   "file_extension": ".py",
   "mimetype": "text/x-python",
   "name": "python",
   "nbconvert_exporter": "python",
   "pygments_lexer": "ipython3",
   "version": "3.12.5"
  }
 },
 "nbformat": 4,
 "nbformat_minor": 5
}
