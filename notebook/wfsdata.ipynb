{
 "cells": [
  {
   "cell_type": "code",
   "execution_count": 1,
   "id": "0f5049f5-2078-4901-8526-e8dbb98ee8b4",
   "metadata": {},
   "outputs": [],
   "source": [
    "import pandas as pd\n",
    "import geopandas as gpd\n",
    "import matplotlib.pyplot as plt\n",
    "import warnings\n",
    "warnings.filterwarnings('ignore')\n",
    "import pathlib\n",
    "import os"
   ]
  },
  {
   "cell_type": "code",
   "execution_count": 2,
   "id": "597b4681-81db-4932-b4e7-c12d56f8610a",
   "metadata": {},
   "outputs": [],
   "source": [
    "file_location = 'E:/QGIS/gkpg'\n",
    "population = '/berlin_population.gpkg'\n",
    "district = '/berlin_districts.gpkg'\n",
    "cycle = '/cycle.gpkg'"
   ]
  },
  {
   "cell_type": "code",
   "execution_count": 3,
   "id": "f4e46992-9a88-41f7-8c48-59016af643df",
   "metadata": {},
   "outputs": [],
   "source": [
    "population = gpd.read_file(file_location + population)\n",
    "district = gpd.read_file(file_location + district)\n",
    "cycle = gpd.read_file(file_location + cycle)"
   ]
  },
  {
   "cell_type": "code",
   "execution_count": 4,
   "id": "971de4a0-07d9-4717-9054-e9f3d9eecac4",
   "metadata": {},
   "outputs": [],
   "source": [
    "population = population.fillna(0)\n"
   ]
  },
  {
   "cell_type": "code",
   "execution_count": 5,
   "id": "006f8412-cb87-476d-ac1b-b7f03bcede21",
   "metadata": {},
   "outputs": [
    {
     "data": {
      "text/plain": [
       "Index(['schluessel', 'ew2022', 'flalle', 'ew_ha_2022', 'alter_u6',\n",
       "       'alter_6_u10', 'alter_10_u18', 'alter_18_u65', 'alter_65_u70',\n",
       "       'alter_70_u75', 'alter75_u80', 'alter_80plus', 'typklar', 'geometry'],\n",
       "      dtype='object')"
      ]
     },
     "execution_count": 5,
     "metadata": {},
     "output_type": "execute_result"
    }
   ],
   "source": [
    "population.columns"
   ]
  },
  {
   "cell_type": "code",
   "execution_count": 6,
   "id": "382d92b4-3b52-4397-8a61-3e4d69938e36",
   "metadata": {},
   "outputs": [],
   "source": [
    "population = population[['schluessel','ew2022','geometry']]"
   ]
  },
  {
   "cell_type": "code",
   "execution_count": 7,
   "id": "021b418f-d1be-4ea3-a936-1da04fa8bcd3",
   "metadata": {},
   "outputs": [
    {
     "data": {
      "text/html": [
       "<div>\n",
       "<style scoped>\n",
       "    .dataframe tbody tr th:only-of-type {\n",
       "        vertical-align: middle;\n",
       "    }\n",
       "\n",
       "    .dataframe tbody tr th {\n",
       "        vertical-align: top;\n",
       "    }\n",
       "\n",
       "    .dataframe thead th {\n",
       "        text-align: right;\n",
       "    }\n",
       "</style>\n",
       "<table border=\"1\" class=\"dataframe\">\n",
       "  <thead>\n",
       "    <tr style=\"text-align: right;\">\n",
       "      <th></th>\n",
       "      <th>schluessel</th>\n",
       "      <th>ew2022</th>\n",
       "      <th>geometry</th>\n",
       "    </tr>\n",
       "  </thead>\n",
       "  <tbody>\n",
       "    <tr>\n",
       "      <th>0</th>\n",
       "      <td>0100980011000100</td>\n",
       "      <td>0</td>\n",
       "      <td>MULTIPOLYGON (((389424.849 5821759.519, 389373...</td>\n",
       "    </tr>\n",
       "    <tr>\n",
       "      <th>1</th>\n",
       "      <td>0100980011000200</td>\n",
       "      <td>0</td>\n",
       "      <td>MULTIPOLYGON (((389424.849 5821759.519, 389336...</td>\n",
       "    </tr>\n",
       "    <tr>\n",
       "      <th>2</th>\n",
       "      <td>0100980011000300</td>\n",
       "      <td>18</td>\n",
       "      <td>MULTIPOLYGON (((389326.319 5821907.843, 389287...</td>\n",
       "    </tr>\n",
       "    <tr>\n",
       "      <th>3</th>\n",
       "      <td>0100980021000200</td>\n",
       "      <td>850</td>\n",
       "      <td>MULTIPOLYGON (((389743.255 5822026.125, 389703...</td>\n",
       "    </tr>\n",
       "    <tr>\n",
       "      <th>4</th>\n",
       "      <td>0100980021000300</td>\n",
       "      <td>3</td>\n",
       "      <td>MULTIPOLYGON (((389693.578 5821875.268, 389605...</td>\n",
       "    </tr>\n",
       "  </tbody>\n",
       "</table>\n",
       "</div>"
      ],
      "text/plain": [
       "         schluessel  ew2022                                           geometry\n",
       "0  0100980011000100       0  MULTIPOLYGON (((389424.849 5821759.519, 389373...\n",
       "1  0100980011000200       0  MULTIPOLYGON (((389424.849 5821759.519, 389336...\n",
       "2  0100980011000300      18  MULTIPOLYGON (((389326.319 5821907.843, 389287...\n",
       "3  0100980021000200     850  MULTIPOLYGON (((389743.255 5822026.125, 389703...\n",
       "4  0100980021000300       3  MULTIPOLYGON (((389693.578 5821875.268, 389605..."
      ]
     },
     "execution_count": 7,
     "metadata": {},
     "output_type": "execute_result"
    }
   ],
   "source": [
    "population.head()"
   ]
  },
  {
   "cell_type": "code",
   "execution_count": 8,
   "id": "3b73c53a-629d-40f1-b429-f51e5922a96a",
   "metadata": {},
   "outputs": [
    {
     "data": {
      "text/html": [
       "<div>\n",
       "<style scoped>\n",
       "    .dataframe tbody tr th:only-of-type {\n",
       "        vertical-align: middle;\n",
       "    }\n",
       "\n",
       "    .dataframe tbody tr th {\n",
       "        vertical-align: top;\n",
       "    }\n",
       "\n",
       "    .dataframe thead th {\n",
       "        text-align: right;\n",
       "    }\n",
       "</style>\n",
       "<table border=\"1\" class=\"dataframe\">\n",
       "  <thead>\n",
       "    <tr style=\"text-align: right;\">\n",
       "      <th></th>\n",
       "      <th>gisid</th>\n",
       "      <th>elem_nr</th>\n",
       "      <th>ist_radvorrangnetz</th>\n",
       "      <th>existenz</th>\n",
       "      <th>geometry</th>\n",
       "    </tr>\n",
       "  </thead>\n",
       "  <tbody>\n",
       "    <tr>\n",
       "      <th>0</th>\n",
       "      <td>1</td>\n",
       "      <td>37430014_37430015.02</td>\n",
       "      <td>Radvorrangnetz</td>\n",
       "      <td>ja, in Straßennetz</td>\n",
       "      <td>MULTILINESTRING ((382122.937 5808289.889, 3821...</td>\n",
       "    </tr>\n",
       "    <tr>\n",
       "      <th>1</th>\n",
       "      <td>2</td>\n",
       "      <td>54600040_54600027.02</td>\n",
       "      <td>Radvorrangnetz</td>\n",
       "      <td>ja, in Straßennetz</td>\n",
       "      <td>MULTILINESTRING ((399564.997 5825717.847, 3995...</td>\n",
       "    </tr>\n",
       "    <tr>\n",
       "      <th>2</th>\n",
       "      <td>3</td>\n",
       "      <td>49470035_49470036.02</td>\n",
       "      <td>Radvorrangnetz</td>\n",
       "      <td>ja, in Straßennetz</td>\n",
       "      <td>MULTILINESTRING ((394182.419 5812758.101, 3942...</td>\n",
       "    </tr>\n",
       "    <tr>\n",
       "      <th>3</th>\n",
       "      <td>4</td>\n",
       "      <td>52520034_53520013.02</td>\n",
       "      <td>Radvorrangnetz</td>\n",
       "      <td>ja, in Straßennetz</td>\n",
       "      <td>MULTILINESTRING ((397751.848 5817229.197, 3977...</td>\n",
       "    </tr>\n",
       "    <tr>\n",
       "      <th>4</th>\n",
       "      <td>5</td>\n",
       "      <td>44570004_44570013.01</td>\n",
       "      <td>Radvorrangnetz</td>\n",
       "      <td>ja, in Straßennetz</td>\n",
       "      <td>MULTILINESTRING ((389353.057 5822475.861, 3893...</td>\n",
       "    </tr>\n",
       "  </tbody>\n",
       "</table>\n",
       "</div>"
      ],
      "text/plain": [
       "   gisid               elem_nr ist_radvorrangnetz            existenz  \\\n",
       "0      1  37430014_37430015.02     Radvorrangnetz  ja, in Straßennetz   \n",
       "1      2  54600040_54600027.02     Radvorrangnetz  ja, in Straßennetz   \n",
       "2      3  49470035_49470036.02     Radvorrangnetz  ja, in Straßennetz   \n",
       "3      4  52520034_53520013.02     Radvorrangnetz  ja, in Straßennetz   \n",
       "4      5  44570004_44570013.01     Radvorrangnetz  ja, in Straßennetz   \n",
       "\n",
       "                                            geometry  \n",
       "0  MULTILINESTRING ((382122.937 5808289.889, 3821...  \n",
       "1  MULTILINESTRING ((399564.997 5825717.847, 3995...  \n",
       "2  MULTILINESTRING ((394182.419 5812758.101, 3942...  \n",
       "3  MULTILINESTRING ((397751.848 5817229.197, 3977...  \n",
       "4  MULTILINESTRING ((389353.057 5822475.861, 3893...  "
      ]
     },
     "execution_count": 8,
     "metadata": {},
     "output_type": "execute_result"
    }
   ],
   "source": [
    "cycle.head()"
   ]
  },
  {
   "cell_type": "code",
   "execution_count": 9,
   "id": "6f5b837b-e681-4faa-a4c9-d57953d3f9f7",
   "metadata": {},
   "outputs": [],
   "source": [
    "cycle = cycle[['gisid','geometry']]"
   ]
  },
  {
   "cell_type": "code",
   "execution_count": 10,
   "id": "866040f1-9f94-4b14-97a2-5b62d351e9c1",
   "metadata": {},
   "outputs": [],
   "source": [
    "population = population.to_crs(3857)"
   ]
  },
  {
   "cell_type": "code",
   "execution_count": 11,
   "id": "fb425aa0-c596-4cf4-9d83-975ac62798f1",
   "metadata": {},
   "outputs": [],
   "source": [
    "# Ensure both datasets are in the same CRS\n",
    "cycle = cycle.to_crs(population.crs)\n",
    "district = district.to_crs(population.crs)"
   ]
  },
  {
   "cell_type": "code",
   "execution_count": 12,
   "id": "8805270f-e49d-4d09-b265-53a87c270fbb",
   "metadata": {},
   "outputs": [
    {
     "name": "stdout",
     "output_type": "stream",
     "text": [
      "EPSG:3857\n",
      "EPSG:3857\n"
     ]
    }
   ],
   "source": [
    "print(cycle.crs)\n",
    "print(district.crs)"
   ]
  },
  {
   "cell_type": "code",
   "execution_count": 13,
   "id": "05d4e4a4-604d-4ecf-a097-e2aeadfcf0f8",
   "metadata": {},
   "outputs": [],
   "source": [
    "# 1. Calculate district population density\n",
    "district['area in sqkm'] = district.geometry.area / 1000000  # area in sq km\n",
    "district_area = district"
   ]
  },
  {
   "cell_type": "code",
   "execution_count": 14,
   "id": "88f187b3-1420-4c25-96fd-1a8a83b725ea",
   "metadata": {},
   "outputs": [],
   "source": [
    "# Perform spatial join\n",
    "# op='intersects' means it will join if the geometries intersect\n",
    "# how='left' keeps all districts and adds population data where available\n",
    "district = gpd.sjoin(district, population, how='inner', predicate='contains')\n",
    "\n"
   ]
  },
  {
   "cell_type": "code",
   "execution_count": 15,
   "id": "78fe4151-b7fa-4aba-b314-81cbb57fd33b",
   "metadata": {},
   "outputs": [
    {
     "data": {
      "text/html": [
       "<div>\n",
       "<style scoped>\n",
       "    .dataframe tbody tr th:only-of-type {\n",
       "        vertical-align: middle;\n",
       "    }\n",
       "\n",
       "    .dataframe tbody tr th {\n",
       "        vertical-align: top;\n",
       "    }\n",
       "\n",
       "    .dataframe thead th {\n",
       "        text-align: right;\n",
       "    }\n",
       "</style>\n",
       "<table border=\"1\" class=\"dataframe\">\n",
       "  <thead>\n",
       "    <tr style=\"text-align: right;\">\n",
       "      <th></th>\n",
       "      <th>district</th>\n",
       "      <th>geometry</th>\n",
       "      <th>area in sqkm</th>\n",
       "      <th>index_right</th>\n",
       "      <th>schluessel</th>\n",
       "      <th>ew2022</th>\n",
       "    </tr>\n",
       "  </thead>\n",
       "  <tbody>\n",
       "    <tr>\n",
       "      <th>11</th>\n",
       "      <td>Reinickendorf</td>\n",
       "      <td>MULTIPOLYGON (((1471433.794 6908101.768, 14715...</td>\n",
       "      <td>241.658472</td>\n",
       "      <td>22656</td>\n",
       "      <td>2000926051000700</td>\n",
       "      <td>0</td>\n",
       "    </tr>\n",
       "    <tr>\n",
       "      <th>11</th>\n",
       "      <td>Reinickendorf</td>\n",
       "      <td>MULTIPOLYGON (((1471433.794 6908101.768, 14715...</td>\n",
       "      <td>241.658472</td>\n",
       "      <td>22654</td>\n",
       "      <td>2000926051000500</td>\n",
       "      <td>0</td>\n",
       "    </tr>\n",
       "    <tr>\n",
       "      <th>11</th>\n",
       "      <td>Reinickendorf</td>\n",
       "      <td>MULTIPOLYGON (((1471433.794 6908101.768, 14715...</td>\n",
       "      <td>241.658472</td>\n",
       "      <td>22651</td>\n",
       "      <td>2000926051000200</td>\n",
       "      <td>0</td>\n",
       "    </tr>\n",
       "    <tr>\n",
       "      <th>11</th>\n",
       "      <td>Reinickendorf</td>\n",
       "      <td>MULTIPOLYGON (((1471433.794 6908101.768, 14715...</td>\n",
       "      <td>241.658472</td>\n",
       "      <td>22415</td>\n",
       "      <td>2000920021000100</td>\n",
       "      <td>0</td>\n",
       "    </tr>\n",
       "    <tr>\n",
       "      <th>11</th>\n",
       "      <td>Reinickendorf</td>\n",
       "      <td>MULTIPOLYGON (((1471433.794 6908101.768, 14715...</td>\n",
       "      <td>241.658472</td>\n",
       "      <td>22411</td>\n",
       "      <td>2000920011000100</td>\n",
       "      <td>124</td>\n",
       "    </tr>\n",
       "  </tbody>\n",
       "</table>\n",
       "</div>"
      ],
      "text/plain": [
       "         district                                           geometry  \\\n",
       "11  Reinickendorf  MULTIPOLYGON (((1471433.794 6908101.768, 14715...   \n",
       "11  Reinickendorf  MULTIPOLYGON (((1471433.794 6908101.768, 14715...   \n",
       "11  Reinickendorf  MULTIPOLYGON (((1471433.794 6908101.768, 14715...   \n",
       "11  Reinickendorf  MULTIPOLYGON (((1471433.794 6908101.768, 14715...   \n",
       "11  Reinickendorf  MULTIPOLYGON (((1471433.794 6908101.768, 14715...   \n",
       "\n",
       "    area in sqkm  index_right        schluessel  ew2022  \n",
       "11    241.658472        22656  2000926051000700       0  \n",
       "11    241.658472        22654  2000926051000500       0  \n",
       "11    241.658472        22651  2000926051000200       0  \n",
       "11    241.658472        22415  2000920021000100       0  \n",
       "11    241.658472        22411  2000920011000100     124  "
      ]
     },
     "execution_count": 15,
     "metadata": {},
     "output_type": "execute_result"
    }
   ],
   "source": [
    "district.tail()"
   ]
  },
  {
   "cell_type": "code",
   "execution_count": 16,
   "id": "031af67d-165c-4aa2-bd87-a57bb5cb24b0",
   "metadata": {},
   "outputs": [
    {
     "data": {
      "text/html": [
       "<div>\n",
       "<style scoped>\n",
       "    .dataframe tbody tr th:only-of-type {\n",
       "        vertical-align: middle;\n",
       "    }\n",
       "\n",
       "    .dataframe tbody tr th {\n",
       "        vertical-align: top;\n",
       "    }\n",
       "\n",
       "    .dataframe thead th {\n",
       "        text-align: right;\n",
       "    }\n",
       "</style>\n",
       "<table border=\"1\" class=\"dataframe\">\n",
       "  <thead>\n",
       "    <tr style=\"text-align: right;\">\n",
       "      <th></th>\n",
       "      <th>district</th>\n",
       "      <th>geometry</th>\n",
       "      <th>area in sqkm</th>\n",
       "      <th>ew2022</th>\n",
       "    </tr>\n",
       "  </thead>\n",
       "  <tbody>\n",
       "    <tr>\n",
       "      <th>0</th>\n",
       "      <td>Mitte</td>\n",
       "      <td>MULTIPOLYGON (((1483591.158 6898621.376, 14835...</td>\n",
       "      <td>106.299293</td>\n",
       "      <td>0</td>\n",
       "    </tr>\n",
       "    <tr>\n",
       "      <th>0</th>\n",
       "      <td>Mitte</td>\n",
       "      <td>MULTIPOLYGON (((1483591.158 6898621.376, 14835...</td>\n",
       "      <td>106.299293</td>\n",
       "      <td>0</td>\n",
       "    </tr>\n",
       "    <tr>\n",
       "      <th>0</th>\n",
       "      <td>Mitte</td>\n",
       "      <td>MULTIPOLYGON (((1483591.158 6898621.376, 14835...</td>\n",
       "      <td>106.299293</td>\n",
       "      <td>519</td>\n",
       "    </tr>\n",
       "    <tr>\n",
       "      <th>0</th>\n",
       "      <td>Mitte</td>\n",
       "      <td>MULTIPOLYGON (((1483591.158 6898621.376, 14835...</td>\n",
       "      <td>106.299293</td>\n",
       "      <td>391</td>\n",
       "    </tr>\n",
       "    <tr>\n",
       "      <th>0</th>\n",
       "      <td>Mitte</td>\n",
       "      <td>MULTIPOLYGON (((1483591.158 6898621.376, 14835...</td>\n",
       "      <td>106.299293</td>\n",
       "      <td>879</td>\n",
       "    </tr>\n",
       "  </tbody>\n",
       "</table>\n",
       "</div>"
      ],
      "text/plain": [
       "  district                                           geometry  area in sqkm  \\\n",
       "0    Mitte  MULTIPOLYGON (((1483591.158 6898621.376, 14835...    106.299293   \n",
       "0    Mitte  MULTIPOLYGON (((1483591.158 6898621.376, 14835...    106.299293   \n",
       "0    Mitte  MULTIPOLYGON (((1483591.158 6898621.376, 14835...    106.299293   \n",
       "0    Mitte  MULTIPOLYGON (((1483591.158 6898621.376, 14835...    106.299293   \n",
       "0    Mitte  MULTIPOLYGON (((1483591.158 6898621.376, 14835...    106.299293   \n",
       "\n",
       "   ew2022  \n",
       "0       0  \n",
       "0       0  \n",
       "0     519  \n",
       "0     391  \n",
       "0     879  "
      ]
     },
     "execution_count": 16,
     "metadata": {},
     "output_type": "execute_result"
    }
   ],
   "source": [
    "district = district[['district','geometry','area in sqkm', 'ew2022']]\n",
    "district.head()"
   ]
  },
  {
   "cell_type": "code",
   "execution_count": null,
   "id": "769c7213-a608-4e7c-aa56-6aa55738d760",
   "metadata": {},
   "outputs": [],
   "source": [
    "# If multiple population points fall within a district, you might want to aggregate\n",
    "# For example, to sum the population:\n",
    "district = district.dissolve(by='district', aggfunc='sum')"
   ]
  },
  {
   "cell_type": "code",
   "execution_count": null,
   "id": "b53f0cc2-4ccf-4694-a140-8687f6fb11fa",
   "metadata": {},
   "outputs": [],
   "source": [
    "district.head()"
   ]
  },
  {
   "cell_type": "code",
   "execution_count": null,
   "id": "114e889d-e6b6-48a8-a219-73998bb0cebc",
   "metadata": {},
   "outputs": [],
   "source": [
    "# Create a output path for the data\n",
    "# output_fp = \"E:/QGIS/gkpg/berlin_district_population.gpkg\"\n",
    "\n",
    "# Write the file\n",
    "# district.to_file(output_fp)"
   ]
  },
  {
   "cell_type": "code",
   "execution_count": null,
   "id": "28b9e701-bb6a-44e9-aaff-11432b2d1885",
   "metadata": {},
   "outputs": [],
   "source": [
    "# 2. Analyze cycling network coverage\n",
    "# Create a 500m buffer around the cycling network\n",
    "cycling_buffer = cycle.buffer(500)\n",
    "cycling_buffer = gpd.GeoDataFrame(geometry=gpd.GeoSeries(cycling_buffer.unary_union))\n",
    "cycling_buffer.crs = cycle.crs"
   ]
  },
  {
   "cell_type": "code",
   "execution_count": null,
   "id": "1a4fddc1-b47b-4da0-b75f-494574b793b8",
   "metadata": {},
   "outputs": [],
   "source": [
    "cycling_buffer.plot()"
   ]
  },
  {
   "cell_type": "code",
   "execution_count": null,
   "id": "2ea8fb20-ee84-4060-8b65-19313b31e521",
   "metadata": {},
   "outputs": [],
   "source": [
    "# Calculate the intersection of buffer with districts\n",
    "district['cycling_area'] = district.intersection(cycling_buffer.unary_union).area\n",
    "district['cycling_coverage'] = district['cycling_area'] / district.geometry.area"
   ]
  },
  {
   "cell_type": "code",
   "execution_count": null,
   "id": "52330926-03cb-4bbf-956c-49e0180bb9a3",
   "metadata": {},
   "outputs": [],
   "source": [
    "district.head()"
   ]
  },
  {
   "cell_type": "code",
   "execution_count": null,
   "id": "c0f0bcb0-8ac9-4a5d-829c-176f8f3c146d",
   "metadata": {},
   "outputs": [],
   "source": [
    "# district = district.merge(district_area, on='district', how='left')"
   ]
  },
  {
   "cell_type": "code",
   "execution_count": null,
   "id": "4ff0bd53-f9f0-450c-ac35-c23aa2ed96df",
   "metadata": {},
   "outputs": [],
   "source": []
  },
  {
   "cell_type": "code",
   "execution_count": null,
   "id": "8fa186ce-fd3c-4b78-a2dd-a9ae381dcfbf",
   "metadata": {},
   "outputs": [],
   "source": []
  }
 ],
 "metadata": {
  "kernelspec": {
   "display_name": "Python 3 (ipykernel)",
   "language": "python",
   "name": "python3"
  },
  "language_info": {
   "codemirror_mode": {
    "name": "ipython",
    "version": 3
   },
   "file_extension": ".py",
   "mimetype": "text/x-python",
   "name": "python",
   "nbconvert_exporter": "python",
   "pygments_lexer": "ipython3",
   "version": "3.12.5"
  }
 },
 "nbformat": 4,
 "nbformat_minor": 5
}
